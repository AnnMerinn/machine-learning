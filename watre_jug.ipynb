{
  "nbformat": 4,
  "nbformat_minor": 0,
  "metadata": {
    "colab": {
      "provenance": [],
      "include_colab_link": true
    },
    "kernelspec": {
      "name": "python3",
      "display_name": "Python 3"
    },
    "language_info": {
      "name": "python"
    }
  },
  "cells": [
    {
      "cell_type": "markdown",
      "metadata": {
        "id": "view-in-github",
        "colab_type": "text"
      },
      "source": [
        "<a href=\"https://colab.research.google.com/github/AnnMerinn/machine-learning/blob/main/watre_jug.ipynb\" target=\"_parent\"><img src=\"https://colab.research.google.com/assets/colab-badge.svg\" alt=\"Open In Colab\"/></a>"
      ]
    },
    {
      "cell_type": "code",
      "execution_count": null,
      "metadata": {
        "id": "KxFXhTXP5BH5"
      },
      "outputs": [],
      "source": [
        "j1=int(input(\"Enter the capacity of jug 1\"))\n",
        "j2=int(input(\"Enter the capacity of jug 2\"))\n",
        "goal=int(input(\"Enter the amount to be measured\"))\n",
        "\n",
        "\n",
        "def display():\n",
        "  print(\"Rule1:Fill jug 1\")\n",
        "  print(\"Rule2:Fill jug 2\")\n",
        "  print(\"Rule3:Empty the jug 1\")\n",
        "  print(\"Rule4:Empty the jug 2\")\n",
        "  print(\"Rule5:Transfer all water from jug1 to jug2\")\n",
        "  print(\"Rule6:Transfer all water from jug2 to jug1\")\n",
        "  print(\"Rule7:Transfer some water from jug1 to jug2 untill jug2 is full\")\n",
        "  print(\"Rule8:Transfer some water from jug2 to jug1 untill jug1 is full\")\n",
        "\n",
        "\n",
        "def apply_rule(ch,x,y):\n",
        "  if ch==1:\n",
        "    if x<j1:\n",
        "      return j1,y\n",
        "    else:\n",
        "      print(\"rule can't be applied\")\n",
        "      return x,y\n",
        "  elif ch==2:\n",
        "    if y<j2:\n",
        "      return x,j2\n",
        "    else:\n",
        "      print(\"rule can't be applied\")\n",
        "      return x,y  \n",
        "  elif ch==3:\n",
        "    if x>0:\n",
        "      return 0,y\n",
        "    else:\n",
        "      print(\"rule can't be applied\")\n",
        "      return x,y   \n",
        "  elif ch==4:\n",
        "    if y>0:\n",
        "      return x,0\n",
        "    else:\n",
        "      print(\"rule can't be applied\")\n",
        "      return x,y \n",
        "  elif ch==5:\n",
        "    if x>0 and x+y<=j2:\n",
        "      return 0,x+y\n",
        "    else:\n",
        "      print(\"rule can't be applied\")\n",
        "      return x,y \n",
        "  elif ch==6:\n",
        "    if y>0 and x+y<=j1:\n",
        "      return x+y,0\n",
        "    else:\n",
        "      print(\"rule can't be applied\")\n",
        "      return x,y \n",
        "  elif ch==7:\n",
        "    if x>0 and x+y>=j2:\n",
        "      return x-(j2-y),j2\n",
        "    else:\n",
        "      print(\"rule can't be applied\")\n",
        "      return x,y \n",
        "  elif ch==8:\n",
        "    if y>0 and x+y>=j1:\n",
        "      return j1,y-(j1-x)\n",
        "    else:\n",
        "      print(\"rule can't be applied\")\n",
        "      return x,y\n",
        "  else:\n",
        "    print(\"Invalid choice\")\n",
        "\n",
        "\n",
        "x=y=0\n",
        "while (True):\n",
        "  if(x==goal)or(y==goal):\n",
        "    print(\"Goal Achieved\")\n",
        "    break\n",
        "  else:\n",
        "    display()\n",
        "    ch=int(input(\"Enter the rule to be applied\"))\n",
        "    x,y=apply_rule(ch,x,y)\n",
        "    print(\"current state\",end=\" \")\n",
        "    print(x,y)"
      ]
    }
  ]
}